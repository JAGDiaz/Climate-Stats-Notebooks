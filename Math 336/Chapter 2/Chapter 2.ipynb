{
 "cells": [
  {
   "cell_type": "markdown",
   "source": [
    "# Introduction to Modern Mathematical Modeling\n",
    "# Chapter 2; Basics of Python Programming\n",
    "#### Disclaimer:\n",
    "This brief introduction to Python presupposes that the reader has basic knowledge\n",
    "in Arithmetic, Calculus, and Linear Algebra."
   ],
   "metadata": {
    "collapsed": false
   }
  },
  {
   "cell_type": "markdown",
   "source": [
    "## Data types\n",
    "The 4 types of data we'll concern ourselves with are integers, floating-points,\n",
    "booleans, and strings."
   ],
   "metadata": {
    "collapsed": false
   }
  },
  {
   "cell_type": "code",
   "execution_count": 2,
   "outputs": [
    {
     "data": {
      "text/plain": "('Words words words', 'More words!')"
     },
     "execution_count": 2,
     "metadata": {},
     "output_type": "execute_result"
    }
   ],
   "source": [
    "# The poundsign/hashtag is used for single line comments in python. Only\n",
    "# text to the right of the symbol is considered part of the comment. Comments\n",
    "# are basically just text that Python will ignore when you try and run your code.\n",
    "\n",
    "1, 2, 3, 101, 103827401\n",
    "# Integers (or ints for short) are the natural numbers and their negative\n",
    "# counterparts.\n",
    "\n",
    "-3.14159\n",
    "# Floating-points (or floats for short) are decimal numbers, like pi\n",
    "# or any non-integer.\n",
    "\n",
    "True, False\n",
    "# Booleans are True or False values and, unlike integers or floats, are the\n",
    "# result of logical expressions. More on logical expressions in a later\n",
    "# chapter.\n",
    "\n",
    "\"Words words words\", 'More words!'\n",
    "# Strings are sequences of characters surrounded by quotation marks (\" \") or\n",
    "# apostrophes (' '), both are valid, but do not mix them in a singles string!\n",
    "# For example; \"string\" is perfectly valid, but \"string' is not. The contents\n",
    "# of a string are just interpreted as text and while mathematical operations\n",
    "# cannot be performed on them (like on ints and floats) some symbols used for\n",
    "# math operations can be used on strings for non-obvious operations."
   ],
   "metadata": {
    "collapsed": false,
    "pycharm": {
     "name": "#%%\n"
    }
   }
  },
  {
   "cell_type": "markdown",
   "source": [
    "## Basic numerical operators\n",
    "\n",
    "The plus symbol `+` is used for addition on numerical types (ints and floats);\n",
    "this behaves exactly as expected, i.e. `2 + 2 = 4`. The `+` symbol is also used\n",
    "for string concatenation; which allows you to to combine strings consecutively,\n",
    "i.e. `\"Blue \" + \"Balloon\" = \"Blue Balloon\"`. Make special note of the space in\n",
    "`\"Blue Balloon\"`; if there was no space after the word `Blue` in the first string,\n",
    "then the result of that string concatenation would have been `\"BlueBallon\"`\n",
    "instead. In code:"
   ],
   "metadata": {
    "collapsed": false
   }
  },
  {
   "cell_type": "code",
   "execution_count": 3,
   "outputs": [
    {
     "data": {
      "text/plain": "4"
     },
     "execution_count": 3,
     "metadata": {},
     "output_type": "execute_result"
    }
   ],
   "source": [
    "1 + 3"
   ],
   "metadata": {
    "collapsed": false,
    "pycharm": {
     "name": "#%%\n"
    }
   }
  },
  {
   "cell_type": "code",
   "execution_count": 4,
   "outputs": [
    {
     "data": {
      "text/plain": "'Blue Balloon'"
     },
     "execution_count": 4,
     "metadata": {},
     "output_type": "execute_result"
    }
   ],
   "source": [
    "\"Blue \" + \"Balloon\""
   ],
   "metadata": {
    "collapsed": false,
    "pycharm": {
     "name": "#%%\n"
    }
   }
  },
  {
   "cell_type": "markdown",
   "source": [
    "The minus symbol `-` is used for subtraction on numerical types, and also allows\n",
    "you to specify that a number is negative. Addition of a negative number in `python`\n",
    "is also equivalent to subtraction, as expected in normal arithmetic. In code:"
   ],
   "metadata": {
    "collapsed": false
   }
  },
  {
   "cell_type": "code",
   "execution_count": 5,
   "outputs": [
    {
     "data": {
      "text/plain": "-4"
     },
     "execution_count": 5,
     "metadata": {},
     "output_type": "execute_result"
    }
   ],
   "source": [
    "1 - 5"
   ],
   "metadata": {
    "collapsed": false,
    "pycharm": {
     "name": "#%%\n"
    }
   }
  },
  {
   "cell_type": "code",
   "execution_count": 6,
   "outputs": [
    {
     "data": {
      "text/plain": "-4"
     },
     "execution_count": 6,
     "metadata": {},
     "output_type": "execute_result"
    }
   ],
   "source": [
    "1 + -5"
   ],
   "metadata": {
    "collapsed": false,
    "pycharm": {
     "name": "#%%\n"
    }
   }
  },
  {
   "cell_type": "markdown",
   "source": [
    "The asterisk symbol `*` is used for multiplication and exponentiation. One asterisk\n",
    "`*` denotes multiplication: $a \\cdot b =$ `a*b`; while two asterisks `**` denotes\n",
    "expontiation: $a^b =$ `a**b`. The asterisk is also used for data structure\n",
    "unpacking, which is a topic we'll get into later. In code:"
   ],
   "metadata": {
    "collapsed": false
   }
  },
  {
   "cell_type": "code",
   "execution_count": 7,
   "outputs": [
    {
     "data": {
      "text/plain": "15"
     },
     "execution_count": 7,
     "metadata": {},
     "output_type": "execute_result"
    }
   ],
   "source": [
    "3*5"
   ],
   "metadata": {
    "collapsed": false,
    "pycharm": {
     "name": "#%%\n"
    }
   }
  },
  {
   "cell_type": "code",
   "execution_count": 8,
   "outputs": [
    {
     "data": {
      "text/plain": "16"
     },
     "execution_count": 8,
     "metadata": {},
     "output_type": "execute_result"
    }
   ],
   "source": [
    "2**4"
   ],
   "metadata": {
    "collapsed": false,
    "pycharm": {
     "name": "#%%\n"
    }
   }
  },
  {
   "cell_type": "markdown",
   "source": [
    "The forward slash `/` is used for two types of division. One forward slash `/`\n",
    "denotes floating-point division: $\\frac{a}{b} =$ `a/b`, which matches the\n",
    "normal conception of division; while two forward slashes denotes integer division:\n",
    "$\\left\\lfloor \\frac{a}{b} \\right\\rfloor =$ `a//b`, which is equivalent to rounding\n",
    "down to the next lowest integer. floats can be used with this type of division, but\n",
    "the result will be of floating point type; `3//2 = 1` vs. `3.0//2.0 = 1.0`. In code:\n"
   ],
   "metadata": {
    "collapsed": false
   }
  },
  {
   "cell_type": "code",
   "execution_count": 9,
   "outputs": [
    {
     "data": {
      "text/plain": "0.5"
     },
     "execution_count": 9,
     "metadata": {},
     "output_type": "execute_result"
    }
   ],
   "source": [
    "1/2"
   ],
   "metadata": {
    "collapsed": false,
    "pycharm": {
     "name": "#%%\n"
    }
   }
  },
  {
   "cell_type": "code",
   "execution_count": 10,
   "outputs": [
    {
     "data": {
      "text/plain": "20"
     },
     "execution_count": 10,
     "metadata": {},
     "output_type": "execute_result"
    }
   ],
   "source": [
    "124//6"
   ],
   "metadata": {
    "collapsed": false,
    "pycharm": {
     "name": "#%%\n"
    }
   }
  },
  {
   "cell_type": "code",
   "execution_count": 11,
   "outputs": [
    {
     "data": {
      "text/plain": "20.0"
     },
     "execution_count": 11,
     "metadata": {},
     "output_type": "execute_result"
    }
   ],
   "source": [
    "124.0//6"
   ],
   "metadata": {
    "collapsed": false,
    "pycharm": {
     "name": "#%%\n"
    }
   }
  },
  {
   "cell_type": "markdown",
   "source": [
    "The percent sign `%` is the modulo operator, which gives you the remainder of\n",
    "integer division: $a\\ \\%\\ b = r$, where $a,\\ b,\\ r$ are all integers that\n",
    "satisfy $a = bq + r$ for some integer $q$. This means that $a \\equiv r \\mod b$.\n",
    "This may not seem, at first glance, a useful operation; but this make plenty of\n",
    "other calculations easier, and we'll see more of that later."
   ],
   "metadata": {
    "collapsed": false,
    "pycharm": {
     "name": "#%% md\n"
    }
   }
  },
  {
   "cell_type": "code",
   "execution_count": 12,
   "outputs": [
    {
     "data": {
      "text/plain": "1"
     },
     "execution_count": 12,
     "metadata": {},
     "output_type": "execute_result"
    }
   ],
   "source": [
    "4%3"
   ],
   "metadata": {
    "collapsed": false,
    "pycharm": {
     "name": "#%%\n"
    }
   }
  },
  {
   "cell_type": "code",
   "execution_count": 13,
   "outputs": [
    {
     "data": {
      "text/plain": "2"
     },
     "execution_count": 13,
     "metadata": {},
     "output_type": "execute_result"
    }
   ],
   "source": [
    "37%7"
   ],
   "metadata": {
    "collapsed": false,
    "pycharm": {
     "name": "#%%\n"
    }
   }
  },
  {
   "cell_type": "code",
   "execution_count": 14,
   "outputs": [
    {
     "data": {
      "text/plain": "11"
     },
     "execution_count": 14,
     "metadata": {},
     "output_type": "execute_result"
    }
   ],
   "source": [
    "128341%41"
   ],
   "metadata": {
    "collapsed": false,
    "pycharm": {
     "name": "#%%\n"
    }
   }
  },
  {
   "cell_type": "markdown",
   "source": [
    "The above code blocks may be run by highlighting each (the box that contains all\n",
    "the code) and clicking the `Run` button at the top of the screen or by entering\n",
    "`Control+Enter` in your keyboard (any `cell` can be run this way). After running\n",
    "the block, you may notice something flagged as `Out` just underneath it. If the\n",
    "values from any operation are not stored or the command to display each is not\n",
    "given explicitly, then only the output from the last operation is displayed. If\n",
    "we wanted to have Jupyter Notebooks display the results of each operation in a\n",
    "single block of code, we'll need to use the built-in `print` function."
   ],
   "metadata": {
    "collapsed": false
   }
  },
  {
   "cell_type": "code",
   "execution_count": 15,
   "outputs": [
    {
     "name": "stdout",
     "output_type": "stream",
     "text": [
      "5\n",
      "-1\n",
      "8\n",
      "243\n",
      "1.5\n",
      "1\n",
      "3\n"
     ]
    }
   ],
   "source": [
    "print(1+4)\n",
    "print(2-3)\n",
    "print(2*4)\n",
    "print(3**5)\n",
    "print(6/4)\n",
    "print(6//4)\n",
    "print(499%4)"
   ],
   "metadata": {
    "collapsed": false,
    "pycharm": {
     "name": "#%%\n"
    }
   }
  },
  {
   "cell_type": "markdown",
   "source": [
    "## Prettier Printing\n",
    "To touch on strings and their utility a little more, we'll talk about `f-strings`.\n",
    "`f-strings` allow you to slot new information into a string by using special syntax.\n",
    "String concatenation mentioned above only works between strings, so if we wanted to\n",
    "slot numerical data into a string we would need to convert it first. The `str`\n",
    "function does just that, for example:"
   ],
   "metadata": {
    "collapsed": false
   }
  },
  {
   "cell_type": "code",
   "execution_count": 16,
   "outputs": [
    {
     "name": "stdout",
     "output_type": "stream",
     "text": [
      "5 plus 2 is 7.\n"
     ]
    }
   ],
   "source": [
    "print(\"5 plus 2 is \" + str(5 + 2) + \".\")"
   ],
   "metadata": {
    "collapsed": false,
    "pycharm": {
     "name": "#%%\n"
    }
   }
  },
  {
   "cell_type": "markdown",
   "source": [
    "The sort of conversion that `str` does is generally known in programming as casting,\n",
    "more on that later.\n",
    "\n",
    "\n",
    "But with `f-strings`, we don't need to worry about that, and we even get access to\n",
    "other useful features. Let's now print the same thing again, but without casting:"
   ],
   "metadata": {
    "collapsed": false
   }
  },
  {
   "cell_type": "code",
   "execution_count": 17,
   "outputs": [
    {
     "name": "stdout",
     "output_type": "stream",
     "text": [
      "5 plus 2 is 7.\n"
     ]
    }
   ],
   "source": [
    "print(f\"5 plus 2 is {5 + 2}.\")"
   ],
   "metadata": {
    "collapsed": false,
    "pycharm": {
     "name": "#%%\n"
    }
   }
  },
  {
   "cell_type": "markdown",
   "source": [
    "The `f` before the first quotation mark indicates that the string will be an\n",
    "`f-string`, and anything between the curly brackets `{ }` will be executed like\n",
    "normal code, converted to a string, and slotted in. In addition to being more\n",
    "straight forward to use, they also support format specification. For example:"
   ],
   "metadata": {
    "collapsed": false
   }
  },
  {
   "cell_type": "code",
   "execution_count": 18,
   "outputs": [
    {
     "name": "stdout",
     "output_type": "stream",
     "text": [
      "0.3333333333333333 is approximately one third!\n"
     ]
    }
   ],
   "source": [
    "print(f\"{1/3} is approximately one third!\")"
   ],
   "metadata": {
    "collapsed": false,
    "pycharm": {
     "name": "#%%\n"
    }
   }
  },
  {
   "cell_type": "markdown",
   "source": [
    "vs."
   ],
   "metadata": {
    "collapsed": false
   }
  },
  {
   "cell_type": "code",
   "execution_count": 19,
   "outputs": [
    {
     "name": "stdout",
     "output_type": "stream",
     "text": [
      "0.33 is approximately one third!\n"
     ]
    }
   ],
   "source": [
    "print(f\"{1/3:3.2f} is approximately one third!\")"
   ],
   "metadata": {
    "collapsed": false,
    "pycharm": {
     "name": "#%%\n"
    }
   }
  },
  {
   "cell_type": "markdown",
   "source": [
    "Format specification, which does exactly what the name implies, allows you to\n",
    "specify the way that some type of information will be represented when\n",
    "converting to a string. A table of some simple examples are below, underscores\n",
    "in the text are meant to represent spaces. The sets of characters are to be\n",
    "inserted after the `:` in the curly brackets."
   ],
   "metadata": {
    "collapsed": false
   }
  },
  {
   "cell_type": "markdown",
   "source": [
    "| Symbol | Use | Example | Notes |\n",
    "|:-:|:-:|:-:|:-:|\n",
    "|`'n.m'f`|floating-point specifier|`f\"{1/6:.4f}\"` $\\to$ `\"0.1667\"`|`n`: spaces allocated, `m`: decimal digits|\n",
    "|`'n.m'e`|scientific notation specifier|`f\"{5**6:6.4e}\"` $\\to$ `\"1.5625e+04\"`|`n`: spaces allocated, `m`: decimal digits|\n",
    "|`'n'd`|integer specifier|`f\"{37:5d}\"` $\\to$ `\"___37\"`|`n`: spaces allocated, right-aligned|\n",
    "|`'n's`|string specifier|`f\"{'Integration':15s}\"` $\\to$ `'Integration____'`|`n`: spaces allocated, left-aligned|\n",
    "|`'n'c`|character specifier|`f\"{65:c}\"` $\\to$ `\"A\"`|`n`: spaces allocated, ASCII conversion|"
   ],
   "metadata": {
    "collapsed": false
   }
  },
  {
   "cell_type": "code",
   "execution_count": 20,
   "outputs": [
    {
     "name": "stdout",
     "output_type": "stream",
     "text": [
      "0.1667\n",
      "1.5625e+04\n",
      "'   37'\n",
      "'Integration    '\n",
      "A\n"
     ]
    }
   ],
   "source": [
    "print(f\"{1/6:.4f}\")\n",
    "print(f\"{5**6:6.4e}\")\n",
    "print(f\"'{37:5d}'\")\n",
    "print(f\"'{'Integration':15s}'\")\n",
    "print(f\"{65:c}\")"
   ],
   "metadata": {
    "collapsed": false,
    "pycharm": {
     "name": "#%%\n"
    }
   }
  },
  {
   "cell_type": "markdown",
   "source": [
    "If you want to include the curly brackets `{ }` in an f-string, you must\n",
    "double up on them on each side with the 'operative brackets' on the inside."
   ],
   "metadata": {
    "collapsed": false
   }
  },
  {
   "cell_type": "code",
   "execution_count": 21,
   "outputs": [
    {
     "name": "stdout",
     "output_type": "stream",
     "text": [
      "Curly brackets around a word: {a word}\n"
     ]
    }
   ],
   "source": [
    "print(f\"Curly brackets around a word: {{{'a word'}}}\")"
   ],
   "metadata": {
    "collapsed": false,
    "pycharm": {
     "name": "#%%\n"
    }
   }
  },
  {
   "cell_type": "markdown",
   "source": [
    "## Order of Operations\n",
    "\n",
    "The order in which operations are executed in a single expression follow the\n",
    "standard rules of mathematics, for example:"
   ],
   "metadata": {
    "collapsed": false
   }
  },
  {
   "cell_type": "code",
   "execution_count": 22,
   "outputs": [
    {
     "name": "stdout",
     "output_type": "stream",
     "text": [
      "2*3**5 + 1 = 487\n",
      "(2*(3**5)) + 1 = 487\n"
     ]
    }
   ],
   "source": [
    "print(f\"2*3**5 + 1 = {2*3**5 + 1}\")\n",
    "# First the exponentiation is done, then the multiplication, and lastly the\n",
    "# addition.\n",
    "\n",
    "print(f\"(2*(3**5)) + 1 = {(2*(3**5)) + 1}\")\n",
    "# This set of operations is equivalent to the set above, but with added\n",
    "# parentheses to emphasize the order."
   ],
   "metadata": {
    "collapsed": false,
    "pycharm": {
     "name": "#%%\n"
    }
   }
  },
  {
   "cell_type": "markdown",
   "source": [
    "If, instead, we wanted to have the operations executed in a different order; we\n",
    "can use parentheses to group everything, like so:"
   ],
   "metadata": {
    "collapsed": false
   }
  },
  {
   "cell_type": "code",
   "execution_count": 23,
   "outputs": [
    {
     "name": "stdout",
     "output_type": "stream",
     "text": [
      "((2*3)**5) + 1 = 7777\n"
     ]
    }
   ],
   "source": [
    "print(f\"((2*3)**5) + 1 = {((2*3)**5) + 1}\")"
   ],
   "metadata": {
    "collapsed": false,
    "pycharm": {
     "name": "#%%\n"
    }
   }
  },
  {
   "cell_type": "markdown",
   "source": [
    "Expressions within parentheses take precedent over everything else, so when in\n",
    "doubt group with ()!\n"
   ],
   "metadata": {
    "collapsed": false
   }
  },
  {
   "cell_type": "markdown",
   "source": [
    "## Variables"
   ],
   "metadata": {
    "collapsed": false
   }
  },
  {
   "cell_type": "markdown",
   "source": [
    "If instead of displaying results you wish to store them for later use,\n",
    "you'll need to use the assignment operator: `=`. The `=` symbol takes\n",
    "the value or output of the expression on the right and stores it in\n",
    "the variable on the left. Unlike the operators we've already seen,\n",
    "don't confuse equality in the mathematical sense with what the assignment\n",
    "operator `=` does. For example:"
   ],
   "metadata": {
    "collapsed": false
   }
  },
  {
   "cell_type": "code",
   "execution_count": 24,
   "outputs": [
    {
     "name": "stdout",
     "output_type": "stream",
     "text": [
      "3\n",
      "6\n",
      "9\n",
      "u = 4\n",
      "u + v = 13\n"
     ]
    }
   ],
   "source": [
    "u = 1 + 2\n",
    "# u is a 'variable' that contains the result of the operation 1 + 2, which\n",
    "# is 3.\n",
    "\n",
    "print(u)\n",
    "# When 'print' is used on a variable, the variable contents is what gets\n",
    "# displayed.\n",
    "\n",
    "print(2*u)\n",
    "# Variables can also used in mathematical expressions; again the contents\n",
    "# of the variable is what gets used.\n",
    "\n",
    "v = u**2\n",
    "# You can even use expressions with variables to assign values to other\n",
    "# variables.\n",
    "\n",
    "print(v)\n",
    "# v contains the square of the contents of u. Crucially, this assignment\n",
    "# DOES NOT change the contents of u.\n",
    "\n",
    "u = u + 1\n",
    "# This, however, will change the contents of u. First, the pre-existing\n",
    "# contents of u will have a 1 added to them. Then, u's contents will be\n",
    "# changed to the whatever the result of that operation was. In this case,\n",
    "# we've incremented u by 1.\n",
    "\n",
    "print(f\"u = {u}\")\n",
    "# Now we print 'u' to verify that it's value has been changed.\n",
    "# Also note that variables can also be used with f-strings and\n",
    "# that the result of an f-string (or any string) can be stored\n",
    "# in a variable, as well.\n",
    "\n",
    "result = f\"u + v = {u + v}\"\n",
    "print(result)"
   ],
   "metadata": {
    "collapsed": false,
    "pycharm": {
     "name": "#%%\n"
    }
   }
  },
  {
   "cell_type": "markdown",
   "source": [
    "## Functions"
   ],
   "metadata": {
    "collapsed": false
   }
  },
  {
   "cell_type": "markdown",
   "source": [
    "So far, we've used built-in functions like `str()`, `int()`, and `print()`,\n",
    "these are functions that `python` has defined ahead of time for ubiquitous\n",
    "operations in programming, like casting and printing output. However, we are\n",
    "not limited to pre-existing functions, as you can define functions of your\n",
    "own:"
   ],
   "metadata": {
    "collapsed": false
   }
  },
  {
   "cell_type": "code",
   "execution_count": 25,
   "outputs": [
    {
     "name": "stdout",
     "output_type": "stream",
     "text": [
      "From my_function\n",
      "addThese(1,2): 3\n"
     ]
    }
   ],
   "source": [
    "def my_function():\n",
    "    print(\"From my_function\")\n",
    "# The 'def' keyword allows you to define functions, this one is called\n",
    "# 'myFunction'. The parentheses here represent whats called the 'parameter\n",
    "# list', it allows you to define how many 'arguments' the function can\n",
    "# accept. In this case, no arguments are needed.\n",
    "\n",
    "my_function()\n",
    "# This is a 'function call' to myFunction(). Whenever a function is called,\n",
    "# it will do whatever it is defined to do. All myFunction does is print some\n",
    "# text to the output, which should be at the bottom of this cell.\n",
    "\n",
    "def add_these(x,y):\n",
    "    return x + y\n",
    "# This function accepts 2 arguments, adds their contents and then returns\n",
    "# the results. The 'return' keyword is crucial here, because if the function\n",
    "# is meant to have an output, this is how you specify what that output will\n",
    "# be. You'll notice myFunction does not have a return statement, that's\n",
    "# because not all functions need to return a value. The indent between\n",
    "# the name of the function and it's content is necessary for Python to\n",
    "# know what is actually in the function. All blocks of code in python use\n",
    "# indentation to determine the structure that a bit of code belongs to, in\n",
    "# this case the function.\n",
    "                \n",
    "print(f\"addThese(1,2): {add_these(1,2)}\")\n",
    "# Here we call the function, but notice that this is not inside the function\n",
    "# based on the last sentence above."
   ],
   "metadata": {
    "collapsed": false,
    "pycharm": {
     "name": "#%%\n"
    }
   }
  },
  {
   "cell_type": "markdown",
   "source": [
    "The example functions I have here may seem pointless and too simple to be\n",
    "useful, and that's exactly true of the examples here. Functions are very\n",
    "versatile and there isn't much of a limit to their potential that I can\n",
    "easily express here; one use of functions is the easy ability to reuse\n",
    "code, examples of which we'll see later."
   ],
   "metadata": {
    "collapsed": false
   }
  },
  {
   "cell_type": "markdown",
   "source": [
    "## Loops and Conditionals\n",
    "Sometimes in programming it is necessary to repeat a particular operation\n",
    "multiple times. For example, if we wanted to `print` a message three times\n",
    "using what we know now we'd need to do something like what's below:"
   ],
   "metadata": {
    "collapsed": false,
    "pycharm": {
     "name": "#%% md\n"
    }
   }
  },
  {
   "cell_type": "code",
   "execution_count": 26,
   "outputs": [
    {
     "name": "stdout",
     "output_type": "stream",
     "text": [
      "Important Message!\n",
      "Important Message!\n",
      "Important Message!\n"
     ]
    }
   ],
   "source": [
    "print(\"Important Message!\")\n",
    "print(\"Important Message!\")\n",
    "print(\"Important Message!\")"
   ],
   "metadata": {
    "collapsed": false,
    "pycharm": {
     "name": "#%%\n"
    }
   }
  },
  {
   "cell_type": "markdown",
   "source": [
    "However, if we instead use a `for loop`, we can do it like this instead:"
   ],
   "metadata": {
    "collapsed": false,
    "pycharm": {
     "name": "#%% md\n"
    }
   }
  },
  {
   "cell_type": "code",
   "execution_count": 27,
   "outputs": [
    {
     "name": "stdout",
     "output_type": "stream",
     "text": [
      "Important Message!\n",
      "Important Message!\n",
      "Important Message!\n"
     ]
    }
   ],
   "source": [
    "for i in range(3):\n",
    "    print(\"Important Message!\")\n",
    "# 'range(n)' creates a sequence of ints from 0 up to n-1."
   ],
   "metadata": {
    "collapsed": false,
    "pycharm": {
     "name": "#%%\n"
    }
   }
  },
  {
   "cell_type": "markdown",
   "source": [
    "A `for loop` allows you to do an operation as many times as you define it to.\n",
    "The loop will, starting from the top, do everything in the indented block and,\n",
    "upon reaching the bottom, will return to the top of it. At which point `i`\n",
    "will be updated with a new value and the process will repeat until `i` has\n",
    "taken on every value in the range specified.`i` acts as the index of the\n",
    "`for loop` statement (which need not be called `i`, any variable name can\n",
    "be used), and can even be used in the loop itself. For example, the script\n",
    "below computes the sum of the first $n$ natural numbers."
   ],
   "metadata": {
    "collapsed": false,
    "pycharm": {
     "name": "#%% md\n"
    }
   }
  },
  {
   "cell_type": "code",
   "execution_count": 28,
   "outputs": [
    {
     "name": "stdout",
     "output_type": "stream",
     "text": [
      "The sum of the first 12 natural numbers is 78\n",
      "That same sum by formula is 78\n"
     ]
    }
   ],
   "source": [
    "n = 12 # Here we'll let n = 12\n",
    "total = 0 # We're going to use total to store the sum\n",
    "\n",
    "for i in range(n + 1):\n",
    "    total = total + i\n",
    "# The reason we include a plus 1 in the argument for 'range' is that\n",
    "# if we did not, our values of i would range from 0 to 11 (12 iterations).\n",
    "# Adding 1 changes that range to 0 to 12; the addition of 0 at the\n",
    "# beginning does not change the sum and we still get to the last number\n",
    "# we need: 12. Whether the number of iterations are what matters or the\n",
    "# values of i involved at each step depends on what your doing. Here, i\n",
    "# is important.\n",
    "\n",
    "print(f\"The sum of the first {n} natural numbers is {total}\")\n",
    "print(f\"That same sum by formula is {(n*(n+1))//2}\")"
   ],
   "metadata": {
    "collapsed": false,
    "pycharm": {
     "name": "#%%\n"
    }
   }
  },
  {
   "cell_type": "markdown",
   "source": [
    "In addition to needing to repeat operations, sometimes it is necessary to\n",
    "do two or more different things based on the state of variables in the script.\n",
    "Which is where conditionals come in:"
   ],
   "metadata": {
    "collapsed": false,
    "pycharm": {
     "name": "#%% md\n"
    }
   }
  },
  {
   "cell_type": "code",
   "execution_count": 29,
   "outputs": [
    {
     "name": "stdout",
     "output_type": "stream",
     "text": [
      "q is greater than or equal to 4\n"
     ]
    }
   ],
   "source": [
    "q = 9\n",
    "\n",
    "if q >= 4:\n",
    "    print(\"q is greater than or equal to 4\")\n",
    "else:\n",
    "    print(\"q is less than 4\")"
   ],
   "metadata": {
    "collapsed": false,
    "pycharm": {
     "name": "#%%\n"
    }
   }
  },
  {
   "cell_type": "markdown",
   "source": [
    "Conditionals rely on the results of logical expressions (called booleans)\n",
    "to work. Above we have an `if-else` clause, if the logical expression\n",
    "(the stuff between `if` and `:`) evaluates to `True`, then the code\n",
    "associated with the `if` gets executed, if it doesn't evaluate (is\n",
    "`False`) then the code associated with the `else` is executed instead.\n",
    "\n",
    "Valid logical expressions include:\n",
    "\n",
    "| Symbol | Use | Example |\n",
    "|:-:|:-:|:-:|\n",
    "|`>`|Greater than|`23 > 12` $\\to$ `True`|\n",
    "|`>=`|Greater than or equal to |`6 >= 6` $\\to$ `True`|\n",
    "|`<`|Less than|`4 < -1` $\\to$ `False`|\n",
    "|`<=`|Less than or equal to|`-1 <= 1` $\\to$ `True`|\n",
    "|`==`|Strict equality|`5 == 7` $\\to$ `False`|\n",
    "|`!=`|Strictly not equal|`5 != 7` $\\to$ `True`|\n",
    "\n",
    "\n",
    "Logical expression can also be joined with `and`, `or`, and `not`.\n",
    "For example:"
   ],
   "metadata": {
    "collapsed": false
   }
  },
  {
   "cell_type": "code",
   "execution_count": 30,
   "outputs": [
    {
     "name": "stdout",
     "output_type": "stream",
     "text": [
      "5 is greater than 4 and less than 6: True\n",
      "19 is less than or equal to 17 and greater than 11: False\n",
      "-1 is less than 10 or greater than 1: True\n",
      "The word at the end of this sentence is not 'True': False\n",
      "True: True\n",
      "False: False\n"
     ]
    }
   ],
   "source": [
    "print(f\"5 is greater than 4 and less than 6: {5 > 4 and 5 < 6}\")\n",
    "# When 2 logical expressions are joined with an 'and', then the\n",
    "# conjunction is only True if both individual expressions are True,\n",
    "# otherwise it is False.\n",
    "\n",
    "print(f\"19 is less than or equal to 17 and greater than 11:\"\n",
    "      f\" {17 >= 19 > 11}\")\n",
    "# The previous 'and'ed logical expression basically asks the\n",
    "# question: Is 5 in the interval between 4 and 6? For similar\n",
    "# logical expressions, python allows you to chain inequalities\n",
    "# and achieve the same effect.\n",
    "\n",
    "print(f\"-1 is less than 10 or greater than 1: {-1 < 10 or -1 > 1}\")\n",
    "# When 2 logical expressions are joined with an 'and', then the\n",
    "# conjunction is only True if at least one of the individual\n",
    "# expressions are True, otherwise it is False.\n",
    "\n",
    "print(f\"The word at the end of this sentence is not 'True': {not True}\")\n",
    "# 'not' doesn't allow you to join logical expressions with each\n",
    "# other, instead its function is logical negation; something\n",
    "# analogous to how placing a minus sign in front of a number\n",
    "# makes it negative.\n",
    "\n",
    "print(f\"True: {not not True}\")\n",
    "print(f\"False: {not not False}\")\n",
    "# Using 'not' twice, is equivalent to not having applied it all.\n",
    "# Like how multiplying a number by '-1' twice returns you to the\n",
    "# original number."
   ],
   "metadata": {
    "collapsed": false,
    "pycharm": {
     "name": "#%%\n"
    }
   }
  },
  {
   "cell_type": "markdown",
   "source": [
    "Now lets combine the `for loop` and `if-elif-else` (a twist on the\n",
    "`if-else` that allows for more than 2 possible outcomes)\n",
    "to write a script that plays a game called Fizz Buzz, the premise\n",
    "of which can be found [here](https://en.wikipedia.org/wiki/Fizz_buzz)."
   ],
   "metadata": {
    "collapsed": false,
    "pycharm": {
     "name": "#%% md\n"
    }
   }
  },
  {
   "cell_type": "code",
   "execution_count": 31,
   "outputs": [
    {
     "name": "stdout",
     "output_type": "stream",
     "text": [
      "1\n",
      "2\n",
      "Fizz\n",
      "4\n",
      "Buzz\n",
      "Fizz\n",
      "7\n",
      "8\n",
      "Fizz\n",
      "Buzz\n",
      "11\n",
      "Fizz\n",
      "13\n",
      "14\n",
      "Fizz Buzz\n",
      "16\n",
      "17\n",
      "Fizz\n",
      "19\n",
      "Buzz\n",
      "Fizz\n",
      "22\n",
      "23\n",
      "Fizz\n",
      "Buzz\n",
      "26\n",
      "Fizz\n",
      "28\n",
      "29\n",
      "Fizz Buzz\n",
      "31\n",
      "32\n",
      "Fizz\n",
      "34\n",
      "Buzz\n",
      "Fizz\n",
      "37\n",
      "38\n",
      "Fizz\n",
      "Buzz\n",
      "41\n",
      "Fizz\n",
      "43\n",
      "44\n",
      "Fizz Buzz\n"
     ]
    }
   ],
   "source": [
    "m = 45\n",
    "for i in range(1, m+1):\n",
    "    if i % 3 == 0 and i % 5 == 0:\n",
    "        print(\"Fizz Buzz\")\n",
    "    elif i % 3 == 0:\n",
    "        print(\"Fizz\")\n",
    "    elif i % 5 == 0:\n",
    "        print(\"Buzz\")\n",
    "    else:\n",
    "        print(i)"
   ],
   "metadata": {
    "collapsed": false,
    "pycharm": {
     "name": "#%%\n"
    }
   }
  },
  {
   "cell_type": "markdown",
   "source": [
    "Everything you need to know to understand how this code works has\n",
    "already been covered, so it's my challenge to you to decipher what's\n",
    "happening!"
   ],
   "metadata": {
    "collapsed": false,
    "pycharm": {
     "name": "#%% md\n"
    }
   }
  },
  {
   "cell_type": "markdown",
   "source": [
    "## Rudimentary `python` Data Structures\n",
    "`python` has some rather versatile built-in data structures that we can\n",
    "leverage, the first two of which we will contrast: the `tuple` and the\n",
    "`list`."
   ],
   "metadata": {
    "collapsed": false,
    "pycharm": {
     "name": "#%% md\n"
    }
   }
  },
  {
   "cell_type": "code",
   "execution_count": 32,
   "outputs": [],
   "source": [
    "ordered_triple = (1.2, 4.5, -2.66)\n",
    "# tuples are created as sequence of items separated by commas and\n",
    "# surrounded by parentheses.\n",
    "\n",
    "three_element_list = [1.2, 4.5, -2.66]\n",
    "# lists are created as sequence of items separated by commas and\n",
    "# surrounded by square brackets."
   ],
   "metadata": {
    "collapsed": false,
    "pycharm": {
     "name": "#%%\n"
    }
   }
  },
  {
   "cell_type": "markdown",
   "source": [
    "That's one way to create each, but there are others. Let's examine\n",
    "the ways that these structures are similar:\n",
    "\n",
    "### Indexing\n",
    "Indexing (selecting specific elements by position in a structure) is\n",
    "done with the `python` index operator `[ ]`. For example:"
   ],
   "metadata": {
    "collapsed": false,
    "pycharm": {
     "name": "#%% md\n"
    }
   }
  },
  {
   "cell_type": "code",
   "execution_count": 33,
   "outputs": [
    {
     "name": "stdout",
     "output_type": "stream",
     "text": [
      "first element of ordered_triple: 1.2\n",
      "last element of ordered_triple: -2.66\n",
      "last element of ordered_triple, again: -2.66\n",
      "\n",
      "first element of three_element_list: 1.2\n",
      "last element of three_element_list: -2.66\n",
      "last element of three_element_list, again: -2.66\n"
     ]
    }
   ],
   "source": [
    "print(f\"first element of ordered_triple: {ordered_triple[0]}\")\n",
    "# To 'index' into a tuple, you need only put an integer index between the\n",
    "# square brackets. Python indexing starts at 0, so the first element is at\n",
    "# index 0.\n",
    "\n",
    "print(f\"last element of ordered_triple: \"\n",
    "      f\"{ordered_triple[len(ordered_triple) - 1]}\")\n",
    "# Since python indexing starts at 0, that means the last element of the\n",
    "# tuple is at index 'length of tuple' - 1, which is what is inside the\n",
    "# index operator above. The `len()` function gives the number of elements\n",
    "# in a data structure.\n",
    "\n",
    "print(f\"last element of ordered_triple, again: {ordered_triple[-1]}\")\n",
    "# However, unlike other programming language, negative indices are valid.\n",
    "# The way that they are treated is equivalent to the index of the structure\n",
    "# mod len(structure). So indexing into '-1' also gets you the last element\n",
    "# of the list.\n",
    "\n",
    "\n",
    "print(f\"\\nfirst element of three_element_list: {three_element_list[0]}\")\n",
    "print(f\"last element of three_element_list: \"\n",
    "      f\"{three_element_list[len(three_element_list) - 1]}\")\n",
    "print(f\"last element of three_element_list, again: {three_element_list[-1]}\")\n",
    "# Indexing into lists works the same as indexing into tuples."
   ],
   "metadata": {
    "collapsed": false,
    "pycharm": {
     "name": "#%%\n"
    }
   }
  },
  {
   "cell_type": "markdown",
   "source": [
    "### Possible Contents\n",
    "Both `lists` and `tuples` can hold just about anything in `python`,\n",
    "and in more or less any combination. Example below:"
   ],
   "metadata": {
    "collapsed": false,
    "pycharm": {
     "name": "#%% md\n"
    }
   }
  },
  {
   "cell_type": "code",
   "execution_count": 34,
   "outputs": [
    {
     "name": "stdout",
     "output_type": "stream",
     "text": [
      "From my_function\n",
      "Contents of order_triple: (1.2, 4.5, -2.66)\n",
      "Number of elements in 'many_typed_list': 8\n",
      "once_list_now_tuple:\n",
      "('words', 41, 2.34, <function my_function at 0x000001F1D6EFC798>, False, True, (1.2, 4.5, -2.66), <built-in function len>)\n",
      "once_tuple_now_list:\n",
      "[1.2, 4.5, -2.66]\n"
     ]
    }
   ],
   "source": [
    "many_typed_list = [\"words\", 41, 2.34, my_function,\n",
    "                   False, True, ordered_triple, len]\n",
    "# many_typed_list is a list that contains a string, an int, a float, a\n",
    "# function handle (the name of the function, which can be used from the\n",
    "# list now), two booleans, a tuple (lists and tuples can both have lists\n",
    "# and tuples as elements), and a function handle for 'len'.\n",
    "\n",
    "many_typed_list[3]()\n",
    "# Example call of the function at index 3, which calls my_function from\n",
    "# above.\n",
    "\n",
    "print(f\"Contents of order_triple: {many_typed_list[-2]}\")\n",
    "# Printing contents of order_triple through many_typed_list by indexing\n",
    "# to the second to last element with a negative index.\n",
    "\n",
    "print(f\"Number of elements in 'many_typed_list': \"\n",
    "      f\"{many_typed_list[-1](many_typed_list)}\")\n",
    "# Example call of the function (len) at the end of many_typed_list\n",
    "# and using many_typed_list as the argument.\n",
    "\n",
    "once_list_now_tuple = tuple(many_typed_list)\n",
    "# These quirks aren't unique to lists. Tuples support them as well.\n",
    "# Here we'll also introduce the built-in 'tuple' function, which creates\n",
    "# a tuple with the contents of the data structure you use as the argument.\n",
    "\n",
    "once_tuple_now_list = list(ordered_triple)\n",
    "# The built-in 'list' function likewise creates a list in the same way.\n",
    "\n",
    "print(f\"once_list_now_tuple:\\n{once_list_now_tuple}\")\n",
    "print(f\"once_tuple_now_list:\\n{once_tuple_now_list}\")"
   ],
   "metadata": {
    "collapsed": false,
    "pycharm": {
     "name": "#%%\n"
    }
   }
  },
  {
   "cell_type": "markdown",
   "source": [
    "### Iterability\n",
    "Much like the `range` object used in `for loops`, `list` and `tuple`\n",
    "elements can be indexed through sequentially; example code below:"
   ],
   "metadata": {
    "collapsed": false,
    "pycharm": {
     "name": "#%% md\n"
    }
   }
  },
  {
   "cell_type": "code",
   "execution_count": 35,
   "outputs": [
    {
     "name": "stdout",
     "output_type": "stream",
     "text": [
      "Contents of once_list_now_tuple: \n",
      "words\n",
      "41\n",
      "2.34\n",
      "<function my_function at 0x000001F1D6EFC798>\n",
      "False\n",
      "True\n",
      "(1.2, 4.5, -2.66)\n",
      "<built-in function len>\n",
      "Contents of once_tuple_now_list\n",
      "1.2\n",
      "4.5\n",
      "-2.66\n"
     ]
    }
   ],
   "source": [
    "print(\"Contents of once_list_now_tuple: \")\n",
    "for k in once_list_now_tuple:\n",
    "    print(k)\n",
    "# The above just prints the contents of once_list_now_tuple, but as\n",
    "# individual elements. Again, the index variable need not be called i.\n",
    "# Any valid variable name will do.\n",
    "\n",
    "print(\"Contents of once_tuple_now_list\")\n",
    "for thing in once_tuple_now_list:\n",
    "    print(thing)\n",
    "# And the above does the same with once_tuple_now_list instead."
   ],
   "metadata": {
    "collapsed": false,
    "pycharm": {
     "name": "#%%\n"
    }
   }
  },
  {
   "cell_type": "markdown",
   "source": [
    "And now we go over some differences between `lists` and `tuples`.\n",
    "\n",
    "### List Comprehension\n",
    "\n",
    "One of the most useful features that `lists` have is support for `python`\n",
    "generators, which is expressed in list comprehension."
   ],
   "metadata": {
    "collapsed": false
   }
  },
  {
   "cell_type": "code",
   "execution_count": 36,
   "outputs": [
    {
     "name": "stdout",
     "output_type": "stream",
     "text": [
      "comprehended_list:\n",
      "[0, 0, 1, 1, 2, 2, 3, 343, 4, 4, 5, 5, 6, 6, 2744, 7, 8, 8, 9, 9, 10, 9261, 11, 11, 12, 12, 13, 13, 21952, 14, 15, 15, 16, 16, 17, 42875, 18, 18, 19, 19, 20, 20, 74088, 21, 22, 22, 23, 23, 24, 117649, 25, 25, 26, 26, 27, 27, 175616, 28, 29, 29, 30, 30, 31, 250047, 32, 32, 33, 33, 34, 34, 343000, 35, 36, 36, 37, 37, 38, 456533, 39, 39, 40, 40, 41, 41, 592704, 42, 43, 43, 44, 44, 45, 753571, 46, 46, 47, 47, 48, 48, 941192, 49]\n",
      "list_of_tuples:\n",
      "[[('W', 'D'), ('h', 'D'), ('o', 'D'), ('o', 'D'), ('p', 'D'), ('s', 'D'), ('y', 'D')], [('W', 'a'), ('h', 'a'), ('o', 'a'), ('o', 'a'), ('p', 'a'), ('s', 'a'), ('y', 'a')], [('W', 'i'), ('h', 'i'), ('o', 'i'), ('o', 'i'), ('p', 'i'), ('s', 'i'), ('y', 'i')], [('W', 's'), ('h', 's'), ('o', 's'), ('o', 's'), ('p', 's'), ('s', 's'), ('y', 's')], [('W', 'y'), ('h', 'y'), ('o', 'y'), ('o', 'y'), ('p', 'y'), ('s', 'y'), ('y', 'y')]]\n"
     ]
    }
   ],
   "source": [
    "comprehended_list = [i**3 if i % 7 == 0 else i//2 for i in range(100)]\n",
    "# List comprehension works by starting with an iterable (like the\n",
    "# range object of 0 to 99), then the iterable's elements are\n",
    "# checked for a particular quality (as a logical expression) and\n",
    "# based on the result, something will be added to the final list.\n",
    "# The example above adds i**3 to the list if i is a multiple of 7,\n",
    "# and i//2 otherwise.\n",
    "\n",
    "print(f\"comprehended_list:\\n{comprehended_list}\")\n",
    "\n",
    "list_of_tuples = [[(i, j) for i in 'Whoopsy'] for j in 'Daisy']\n",
    "# List comprehension can also be nested to create 2 dimensional lists.\n",
    "# As a side note, strings are also iterable.\n",
    "\n",
    "print(f\"list_of_tuples:\\n{list_of_tuples}\")"
   ],
   "metadata": {
    "collapsed": false,
    "pycharm": {
     "name": "#%%\n"
    }
   }
  },
  {
   "cell_type": "markdown",
   "source": [
    "### Mutability\n",
    "\n",
    "The most significant difference between `tuples` and `lists` is that `tuples`\n",
    "are immutable and `lists` are mutable. What does this mean?\n",
    "Immutable data structures cannot be changed once created; no more elements\n",
    "can be added to it and the existing elements cannot be changed. Take the code\n",
    "below as an example:"
   ],
   "metadata": {
    "collapsed": false,
    "pycharm": {
     "name": "#%% md\n"
    }
   }
  },
  {
   "cell_type": "code",
   "execution_count": 40,
   "outputs": [
    {
     "name": "stdout",
     "output_type": "stream",
     "text": [
      "three_element_list: [18, 4.5, -2.66, 'Last Place']\n"
     ]
    }
   ],
   "source": [
    "three_element_list[0] = 18\n",
    "three_element_list.append(\"Last Place\")\n",
    "print(f\"three_element_list: {three_element_list}\")\n",
    "# Lists are mutable, which is why we can change the first element to 18,\n",
    "# and add the string \"Last Place\" to the end of the list, which is what\n",
    "# '.append()' does, and there are no problems."
   ],
   "metadata": {
    "collapsed": false,
    "pycharm": {
     "name": "#%%\n"
    }
   }
  },
  {
   "cell_type": "code",
   "execution_count": 41,
   "outputs": [
    {
     "ename": "TypeError",
     "evalue": "'tuple' object does not support item assignment",
     "output_type": "error",
     "traceback": [
      "\u001B[1;31m---------------------------------------------------------------------------\u001B[0m",
      "\u001B[1;31mTypeError\u001B[0m                                 Traceback (most recent call last)",
      "\u001B[1;32m<ipython-input-41-36823acfe2da>\u001B[0m in \u001B[0;36m<module>\u001B[1;34m\u001B[0m\n\u001B[1;32m----> 1\u001B[1;33m \u001B[0mordered_triple\u001B[0m\u001B[1;33m[\u001B[0m\u001B[1;36m1\u001B[0m\u001B[1;33m]\u001B[0m \u001B[1;33m=\u001B[0m \u001B[1;36m5\u001B[0m\u001B[1;33m\u001B[0m\u001B[1;33m\u001B[0m\u001B[0m\n\u001B[0m\u001B[0;32m      2\u001B[0m \u001B[1;31m# But if we try and do this with a tuple, we get an error...\u001B[0m\u001B[1;33m\u001B[0m\u001B[1;33m\u001B[0m\u001B[1;33m\u001B[0m\u001B[0m\n",
      "\u001B[1;31mTypeError\u001B[0m: 'tuple' object does not support item assignment"
     ]
    }
   ],
   "source": [
    "ordered_triple[1] = 5\n",
    "# But if we try and do this with a tuple, we get an error..."
   ],
   "metadata": {
    "collapsed": false,
    "pycharm": {
     "name": "#%%\n"
    }
   }
  },
  {
   "cell_type": "markdown",
   "source": [
    "It's possible to get around this by creating a new `tuple` with different\n",
    "contents and using the same variable name."
   ],
   "metadata": {
    "collapsed": false,
    "pycharm": {
     "name": "#%% md\n"
    }
   }
  },
  {
   "cell_type": "code",
   "execution_count": 42,
   "outputs": [
    {
     "name": "stdout",
     "output_type": "stream",
     "text": [
      "ordered_triple: (1.2, 5, -2.66)\n"
     ]
    }
   ],
   "source": [
    "ordered_triple = (1.2, 5, -2.66)\n",
    "# While you can 'change' a tuple like this, it isn't recommended.\n",
    "print(f\"ordered_triple: {ordered_triple}\")"
   ],
   "metadata": {
    "collapsed": false,
    "pycharm": {
     "name": "#%%\n"
    }
   }
  },
  {
   "cell_type": "markdown",
   "source": [
    "`lists` are a little more versatile because of these last two topics,\n",
    "so they'll be used throughout these Notebooks more frequently than\n",
    "`tuples`; but bear in mind that there are still applications for which\n",
    "`tuples` are superior, like for use in data sets that won't change."
   ],
   "metadata": {
    "collapsed": false,
    "pycharm": {
     "name": "#%% md\n"
    }
   }
  }
 ],
 "metadata": {
  "kernelspec": {
   "display_name": "Python 3",
   "language": "python",
   "name": "python3"
  },
  "language_info": {
   "codemirror_mode": {
    "name": "ipython",
    "version": 3
   },
   "file_extension": ".py",
   "mimetype": "text/x-python",
   "name": "python",
   "nbconvert_exporter": "python",
   "pygments_lexer": "ipython3",
   "version": "3.7.4"
  }
 },
 "nbformat": 4,
 "nbformat_minor": 2
}